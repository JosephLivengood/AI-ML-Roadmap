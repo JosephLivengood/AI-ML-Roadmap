{
  "cells": [
    {
      "cell_type": "markdown",
      "metadata": {},
      "source": [
        "# Attention Intuition\n",
        "## Attention and Transformers\n",
        "\n",
        "This notebook covers:\n",
        "- Attention mechanism concept\n",
        "- Weighing importance of input parts\n",
        "- Query, Key, Value matrices\n",
        "- Attention score calculation\n",
        "- Visual demonstrations\n"
      ]
    }
  ],
  "metadata": {
    "language_info": {
      "name": "python"
    }
  },
  "nbformat": 4,
  "nbformat_minor": 2
}
