{
  "cells": [
    {
      "cell_type": "markdown",
      "metadata": {},
      "source": [
        "# CNN Architectures\n",
        "## Convolutional Neural Networks (CV)\n",
        "\n",
        "This notebook covers:\n",
        "- Stacking convolutional and pooling layers\n",
        "- Dense layers for classification\n",
        "- Classic CNN architectures overview\n",
        "- Layer design principles\n",
        "- Architecture visualization\n"
      ]
    }
  ],
  "metadata": {
    "language_info": {
      "name": "python"
    }
  },
  "nbformat": 4,
  "nbformat_minor": 2
}
