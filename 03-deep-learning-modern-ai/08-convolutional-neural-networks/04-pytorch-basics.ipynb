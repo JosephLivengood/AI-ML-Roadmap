{
  "cells": [
    {
      "cell_type": "markdown",
      "metadata": {},
      "source": [
        "# PyTorch Basics\n",
        "## Convolutional Neural Networks (CV)\n",
        "\n",
        "This notebook covers:\n",
        "- nn.Conv2d layer usage\n",
        "- nn.MaxPool2d implementation\n",
        "- nn.Linear for dense layers\n",
        "- Training loop structure\n",
        "- PyTorch tensor operations\n"
      ]
    }
  ],
  "metadata": {
    "language_info": {
      "name": "python"
    }
  },
  "nbformat": 4,
  "nbformat_minor": 2
}
