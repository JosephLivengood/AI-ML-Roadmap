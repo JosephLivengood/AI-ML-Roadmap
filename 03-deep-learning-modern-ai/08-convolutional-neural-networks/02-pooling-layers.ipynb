{
  "cells": [
    {
      "cell_type": "markdown",
      "metadata": {},
      "source": [
        "# Pooling Layers\n",
        "## Convolutional Neural Networks (CV)\n",
        "\n",
        "This notebook covers:\n",
        "- Max pooling operation\n",
        "- Average pooling techniques\n",
        "- Down-sampling benefits\n",
        "- Translation invariance\n",
        "- Spatial dimension reduction\n"
      ]
    }
  ],
  "metadata": {
    "language_info": {
      "name": "python"
    }
  },
  "nbformat": 4,
  "nbformat_minor": 2
}
