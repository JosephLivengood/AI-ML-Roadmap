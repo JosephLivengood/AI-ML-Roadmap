{
  "cells": [
    {
      "cell_type": "markdown",
      "metadata": {},
      "source": [
        "# CIFAR-10 CNN Challenge\n",
        "## Convolutional Neural Networks (CV)\n",
        "\n",
        "This notebook builds and trains a custom CNN for image classification:\n",
        "- Custom CNN architecture definition\n",
        "- Two convolutional + pooling layers\n",
        "- Final dense layer for classification\n",
        "- Training on CIFAR-10 dataset\n",
        "- PyTorch workflow demonstration\n"
      ]
    }
  ],
  "metadata": {
    "language_info": {
      "name": "python"
    }
  },
  "nbformat": 4,
  "nbformat_minor": 2
}
