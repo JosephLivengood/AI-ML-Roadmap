{
  "cells": [
    {
      "cell_type": "markdown",
      "metadata": {},
      "source": [
        "# LSTM & GRU\n",
        "## Recurrent Neural Networks (NLP/Sequences)\n",
        "\n",
        "This notebook covers:\n",
        "- LSTM architecture and gates\n",
        "- Forget, input, and output gates\n",
        "- GRU simplified architecture\n",
        "- Memory cell mechanics\n",
        "- Solving vanishing gradient problem\n"
      ]
    }
  ],
  "metadata": {
    "language_info": {
      "name": "python"
    }
  },
  "nbformat": 4,
  "nbformat_minor": 2
}
