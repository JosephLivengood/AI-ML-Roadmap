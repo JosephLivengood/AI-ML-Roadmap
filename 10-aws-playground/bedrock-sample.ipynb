{
 "cells": [
  {
   "cell_type": "code",
   "execution_count": 1,
   "id": "f21d2709",
   "metadata": {},
   "outputs": [],
   "source": [
    "# AWS Bedrock Agent Sample\n",
    "# This notebook demonstrates how to call a Bedrock agent with a given prompt\n",
    "\n",
    "import boto3\n",
    "import json\n",
    "from typing import Dict, Any\n",
    "import time\n"
   ]
  },
  {
   "cell_type": "markdown",
   "id": "87dbc400",
   "metadata": {},
   "source": [
    "# AWS Bedrock Agent Integration\n",
    "\n",
    "This notebook demonstrates how to:\n",
    "- Set up AWS Bedrock client\n",
    "- Call a Bedrock agent with prompts\n",
    "- Handle agent responses\n",
    "- Parse and display results\n",
    "\n",
    "## Prerequisites\n",
    "- AWS credentials configured (via AWS CLI, IAM role, or environment variables)\n",
    "- Bedrock agent created and deployed\n",
    "- Appropriate IAM permissions for Bedrock access\n"
   ]
  },
  {
   "cell_type": "code",
   "execution_count": 14,
   "id": "0943d54d",
   "metadata": {},
   "outputs": [],
   "source": [
    "# Configuration - Update these values with your Bedrock agent details\n",
    "AGENT_ID = \"6WXYLZ7CDN\"  # Replace with your agent ID\n",
    "AGENT_ALIAS_ID = \"NGBVDSQOCG\"  # Default test alias or your custom alias\n",
    "AWS_REGION = \"us-west-2\"  # Replace with your preferred region\n",
    "\n",
    "# Initialize Bedrock client\n",
    "bedrock_agent_runtime = boto3.client(\n",
    "    'bedrock-agent-runtime',\n",
    "    region_name=AWS_REGION\n",
    ")\n"
   ]
  },
  {
   "cell_type": "code",
   "execution_count": 10,
   "id": "d243a627",
   "metadata": {},
   "outputs": [],
   "source": [
    "def call_bedrock_agent(prompt: str, session_id: str = None) -> Dict[str, Any]:\n",
    "    \"\"\"\n",
    "    Call a Bedrock agent with the given prompt.\n",
    "    \n",
    "    Args:\n",
    "        prompt (str): The prompt/question to send to the agent\n",
    "        session_id (str, optional): Session ID for conversation continuity\n",
    "    \n",
    "    Returns:\n",
    "        Dict containing the agent's response and metadata\n",
    "    \"\"\"\n",
    "    if session_id is None:\n",
    "        session_id = f\"session-{int(time.time())}\"\n",
    "    \n",
    "    try:\n",
    "        # Call the Bedrock agent\n",
    "        response = bedrock_agent_runtime.invoke_agent(\n",
    "            agentId=AGENT_ID,\n",
    "            agentAliasId=AGENT_ALIAS_ID,\n",
    "            sessionId=session_id,\n",
    "            inputText=prompt\n",
    "        )\n",
    "        \n",
    "        # Process the streaming response\n",
    "        result = {\n",
    "            \"session_id\": session_id,\n",
    "            \"response_text\": \"\",\n",
    "            \"citations\": [],\n",
    "            \"trace\": [],\n",
    "            \"metadata\": {}\n",
    "        }\n",
    "        \n",
    "        for event in response['completion']:\n",
    "            if 'chunk' in event:\n",
    "                chunk = event['chunk']\n",
    "                if 'bytes' in chunk:\n",
    "                    text = chunk['bytes'].decode('utf-8')\n",
    "                    result[\"response_text\"] += text\n",
    "                    \n",
    "            elif 'trace' in event:\n",
    "                result[\"trace\"].append(event['trace'])\n",
    "                \n",
    "        return result\n",
    "        \n",
    "    except Exception as e:\n",
    "        return {\n",
    "            \"error\": str(e),\n",
    "            \"session_id\": session_id\n",
    "        }\n"
   ]
  },
  {
   "cell_type": "code",
   "execution_count": 11,
   "id": "da27e0ff",
   "metadata": {},
   "outputs": [
    {
     "name": "stdout",
     "output_type": "stream",
     "text": [
      "Calling Bedrock agent...\n",
      "Prompt: Hello! Can you help me understand what you can do?\n",
      "--------------------------------------------------\n",
      "Session ID: session-1755575659\n",
      "Response: Sorry I cannot answer\n"
     ]
    }
   ],
   "source": [
    "# Example: Call the agent with a sample prompt\n",
    "sample_prompt = \"Hello! Can you help me understand what you can do?\"\n",
    "\n",
    "print(\"Calling Bedrock agent...\")\n",
    "print(f\"Prompt: {sample_prompt}\")\n",
    "print(\"-\" * 50)\n",
    "\n",
    "# Make sure to update AGENT_ID above before running this cell\n",
    "result = call_bedrock_agent(sample_prompt)\n",
    "\n",
    "if \"error\" in result:\n",
    "    print(f\"Error: {result['error']}\")\n",
    "else:\n",
    "    print(f\"Session ID: {result['session_id']}\")\n",
    "    print(f\"Response: {result['response_text']}\")\n",
    "    \n",
    "    if result['trace']:\n",
    "        print(\"\\nTrace information:\")\n",
    "        for trace in result['trace']:\n",
    "            print(f\"  {trace}\")\n"
   ]
  },
  {
   "cell_type": "markdown",
   "id": "1523f5ca",
   "metadata": {},
   "source": [
    "## Interactive Agent Call\n",
    "\n",
    "Use the cell below to call your agent with any prompt you want to test:\n"
   ]
  },
  {
   "cell_type": "code",
   "execution_count": 17,
   "id": "16cd229c",
   "metadata": {},
   "outputs": [
    {
     "name": "stdout",
     "output_type": "stream",
     "text": [
      "Sending prompt: My todo is to take out the trash, it is high priority, and just a basic chore.\n",
      "============================================================\n",
      "✅ Success!\n",
      "Session ID: session-1755576090\n",
      "\n",
      "🤖 Agent Response:\n",
      "Here is your todo list with the task you provided:\n",
      "```json\n",
      "[\n",
      "  {\n",
      "    \"task\": \"take out the trash\",\n",
      "    \"category\": \"basic chore\",\n",
      "    \"notes\": \"\",\n",
      "    \"priority\": \"high\"\n",
      "  }\n",
      "]\n",
      "\n"
     ]
    }
   ],
   "source": [
    "# Call your agent with a custom prompt\n",
    "your_prompt = \"My todo is to take out the trash, it is high priority, and just a basic chore.\"\n",
    "\n",
    "# Optional: specify a session ID to maintain conversation context\n",
    "# session_id = \"my-custom-session\"  # Uncomment and set if needed\n",
    "\n",
    "print(f\"Sending prompt: {your_prompt}\")\n",
    "print(\"=\" * 60)\n",
    "\n",
    "result = call_bedrock_agent(your_prompt)\n",
    "# result = call_bedrock_agent(your_prompt, session_id)  # With custom session\n",
    "\n",
    "if \"error\" in result:\n",
    "    print(f\"❌ Error: {result['error']}\")\n",
    "    print(\"\\nTroubleshooting tips:\")\n",
    "    print(\"1. Make sure your AGENT_ID is correctly set\")\n",
    "    print(\"2. Verify your AWS credentials are configured\")\n",
    "    print(\"3. Check that your agent is deployed and active\")\n",
    "    print(\"4. Ensure you have the necessary IAM permissions\")\n",
    "else:\n",
    "    print(f\"✅ Success!\")\n",
    "    print(f\"Session ID: {result['session_id']}\")\n",
    "    print(f\"\\n🤖 Agent Response:\")\n",
    "    print(result['response_text'])\n",
    "    \n",
    "    if result['trace']:\n",
    "        print(f\"\\n🔍 Trace Details:\")\n",
    "        for i, trace in enumerate(result['trace'], 1):\n",
    "            print(f\"  Step {i}: {trace}\")\n"
   ]
  }
 ],
 "metadata": {
  "kernelspec": {
   "display_name": "aiml",
   "language": "python",
   "name": "python3"
  },
  "language_info": {
   "codemirror_mode": {
    "name": "ipython",
    "version": 3
   },
   "file_extension": ".py",
   "mimetype": "text/x-python",
   "name": "python",
   "nbconvert_exporter": "python",
   "pygments_lexer": "ipython3",
   "version": "3.11.13"
  }
 },
 "nbformat": 4,
 "nbformat_minor": 5
}
