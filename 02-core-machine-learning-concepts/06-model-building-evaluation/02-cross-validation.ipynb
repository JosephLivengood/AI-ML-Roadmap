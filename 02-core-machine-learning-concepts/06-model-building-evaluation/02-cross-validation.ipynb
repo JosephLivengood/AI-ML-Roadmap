{
  "cells": [
    {
      "cell_type": "markdown",
      "metadata": {},
      "source": [
        "# Cross-Validation\n",
        "## Model Building & Evaluation\n",
        "\n",
        "This notebook covers:\n",
        "- K-Fold cross-validation technique\n",
        "- Stratified K-Fold for imbalanced data\n",
        "- Leave-one-out cross-validation\n",
        "- Cross-validation best practices\n",
        "- Implementation with scikit-learn\n"
      ]
    }
  ],
  "metadata": {
    "language_info": {
      "name": "python"
    }
  },
  "nbformat": 4,
  "nbformat_minor": 2
}
