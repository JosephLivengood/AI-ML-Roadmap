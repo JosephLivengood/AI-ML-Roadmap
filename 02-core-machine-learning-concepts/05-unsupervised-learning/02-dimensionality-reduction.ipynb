{
  "cells": [
    {
      "cell_type": "markdown",
      "metadata": {},
      "source": [
        "# Dimensionality Reduction\n",
        "## Unsupervised Learning\n",
        "\n",
        "This notebook covers:\n",
        "- PCA practical applications\n",
        "- t-SNE for visualization\n",
        "- Linear vs non-linear reduction\n",
        "- Curse of dimensionality\n",
        "- Visualization techniques\n"
      ]
    }
  ],
  "metadata": {
    "language_info": {
      "name": "python"
    }
  },
  "nbformat": 4,
  "nbformat_minor": 2
}
