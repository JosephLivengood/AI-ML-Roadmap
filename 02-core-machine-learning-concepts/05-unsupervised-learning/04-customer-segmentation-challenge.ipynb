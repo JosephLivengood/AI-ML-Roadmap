{
  "cells": [
    {
      "cell_type": "markdown",
      "metadata": {},
      "source": [
        "# Customer Segmentation Challenge\n",
        "## Unsupervised Learning\n",
        "\n",
        "This notebook performs customer segmentation analysis:\n",
        "- Mall Customer Segmentation dataset analysis\n",
        "- K-Means clustering on customer features\n",
        "- PCA/t-SNE visualization in 2D\n",
        "- Business interpretation of clusters\n",
        "- Customer segment profiling\n"
      ]
    }
  ],
  "metadata": {
    "language_info": {
      "name": "python"
    }
  },
  "nbformat": 4,
  "nbformat_minor": 2
}
