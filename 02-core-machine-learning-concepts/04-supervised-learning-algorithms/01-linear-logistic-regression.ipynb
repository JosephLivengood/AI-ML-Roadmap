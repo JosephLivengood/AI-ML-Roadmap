{
  "cells": [
    {
      "cell_type": "markdown",
      "metadata": {},
      "source": [
        "# Linear & Logistic Regression\n",
        "## Supervised Learning Algorithms\n",
        "\n",
        "This notebook covers:\n",
        "- Linear regression mathematics\n",
        "- Logistic regression for classification\n",
        "- Cost functions (MSE, Log Loss)\n",
        "- Optimization with gradient descent\n",
        "- Implementation from scratch\n"
      ]
    }
  ],
  "metadata": {
    "language_info": {
      "name": "python"
    }
  },
  "nbformat": 4,
  "nbformat_minor": 2
}
