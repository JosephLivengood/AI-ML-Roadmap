{
  "cells": [
    {
      "cell_type": "markdown",
      "metadata": {},
      "source": [
        "# Support Vector Machines (SVMs)\n",
        "## Supervised Learning Algorithms\n",
        "\n",
        "This notebook covers:\n",
        "- Maximum margin hyperplane intuition\n",
        "- Support vectors concept\n",
        "- Kernel trick for non-linear separation\n",
        "- SVM optimization problem\n",
        "- Practical implementation with scikit-learn\n"
      ]
    }
  ],
  "metadata": {
    "language_info": {
      "name": "python"
    }
  },
  "nbformat": 4,
  "nbformat_minor": 2
}
