{
  "cells": [
    {
      "cell_type": "markdown",
      "metadata": {},
      "source": [
        "# Decision Tree from Scratch Challenge\n",
        "## Supervised Learning Algorithms\n",
        "\n",
        "This notebook builds a decision tree from scratch:\n",
        "- Information gain calculation\n",
        "- Best feature and split-point selection\n",
        "- Recursive tree building algorithm\n",
        "- Implementation on Iris dataset subset\n",
        "- Comparison with sklearn.tree.DecisionTreeClassifier\n"
      ]
    }
  ],
  "metadata": {
    "language_info": {
      "name": "python"
    }
  },
  "nbformat": 4,
  "nbformat_minor": 2
}
