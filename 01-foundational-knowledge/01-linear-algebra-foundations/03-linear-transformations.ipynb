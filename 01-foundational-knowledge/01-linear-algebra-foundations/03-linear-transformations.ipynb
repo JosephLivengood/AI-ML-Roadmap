{
  "cells": [
    {
      "cell_type": "markdown",
      "metadata": {},
      "source": [
        "# Linear Transformations\n",
        "## Linear Algebra Foundations\n",
        "\n",
        "This notebook covers:\n",
        "- How matrices transform vectors\n",
        "- Scaling transformations\n",
        "- Rotation transformations\n",
        "- Shearing transformations\n",
        "- Geometric visualization\n"
      ]
    },
    {
      "cell_type": "markdown",
      "metadata": {},
      "source": [
        "Multiplication is easy, dot product with each by the column of matrix\n",
        "\n",
        "### Transformations\n",
        "\n",
        "Matricies are tools for transforming space\n",
        "- Reflections\n",
        "- Scaling (stretch/shrink)\n",
        "- Rotation (spin)\n",
        "- Shearing (tilt)\n",
        "\n",
        "**Scaling**\n",
        "[[sx, 0], [0, sy]] where sx is how much to scale x and sy for y\n",
        "\n",
        "**Rotation**\n",
        "[[cos(θ), -sin(θ)],\n",
        " [sin(θ), cos(θ) ]] where θ is the rotation angle\n",
        "\n",
        "For example, rotating 90 degrees means using\n",
        "[[0, -1],\n",
        " [1, 0 ]]\n",
        "\n",
        "#### ORDER MATTER, Transforming M @ v\n"
      ]
    },
    {
      "cell_type": "code",
      "execution_count": null,
      "metadata": {},
      "outputs": [
        {
          "name": "stdout",
          "output_type": "stream",
          "text": [
            "[ 2 -1]\n",
            "[-2  1]\n",
            "[6 2]\n",
            "[-1  2]\n"
          ]
        }
      ],
      "source": [
        "import numpy as np\n",
        "\n",
        "v = np.array([2, 1])\n",
        "\n",
        "reflectAlongX = np.array([[1, 0], [0, -1]])\n",
        "reflectAlongY = np.array([[-1, 0], [0, 1]])\n",
        "\n",
        "print(reflectAlongX @ v)\n",
        "print(reflectAlongY @ v)\n",
        "\n",
        "scale = np.array([[3, 0], [0, 2]]) # 3x, 2y scaling\n",
        "\n",
        "print(scale @ v)\n",
        "\n",
        "\n",
        "rotate90 = np.array([[0, -1], [1, 0]])\n",
        "\n",
        "print(rotate90 @ v)\n",
        "\n",
        "\n",
        "\n",
        "\n"
      ]
    }
  ],
  "metadata": {
    "kernelspec": {
      "display_name": "aiml",
      "language": "python",
      "name": "python3"
    },
    "language_info": {
      "codemirror_mode": {
        "name": "ipython",
        "version": 3
      },
      "file_extension": ".py",
      "mimetype": "text/x-python",
      "name": "python",
      "nbconvert_exporter": "python",
      "pygments_lexer": "ipython3",
      "version": "3.11.13"
    }
  },
  "nbformat": 4,
  "nbformat_minor": 2
}
