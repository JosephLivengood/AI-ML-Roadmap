{
  "cells": [
    {
      "cell_type": "markdown",
      "metadata": {},
      "source": [
        "# Linear Transformations\n",
        "## Linear Algebra Foundations\n",
        "\n",
        "This notebook covers:\n",
        "- How matrices transform vectors\n",
        "- Scaling transformations\n",
        "- Rotation transformations\n",
        "- Shearing transformations\n",
        "- Geometric visualization\n"
      ]
    }
  ],
  "metadata": {
    "language_info": {
      "name": "python"
    }
  },
  "nbformat": 4,
  "nbformat_minor": 2
}
