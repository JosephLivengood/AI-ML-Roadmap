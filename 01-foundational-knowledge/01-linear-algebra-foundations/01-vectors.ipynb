{
  "cells": [
    {
      "cell_type": "markdown",
      "metadata": {},
      "source": [
        "# Vectors\n",
        "## Linear Algebra Foundations\n",
        "\n",
        "This notebook covers:\n",
        "- Vector representation\n",
        "- Vector norm (magnitude)\n",
        "- Dot product\n",
        "- Geometric interpretations\n",
        "- NumPy implementation\n"
      ]
    },
    {
      "cell_type": "markdown",
      "metadata": {
        "vscode": {
          "languageId": "latex"
        }
      },
      "source": [
        "## Vector is an object with a magnitude and direction\n",
        "\n",
        "In mathematical notation: v = [2, 3]\n",
        "This vector starts at the origin (0,0) and points to (2,3)\n",
        "\n",
        "$\\vec{v} = \\begin{bmatrix} 2 \\\\ 3 \\end{bmatrix}$\n",
        "\n",
        "### Norm (magnitude)\n",
        "\n",
        "Simply its length, written as:\n",
        "$||\\vec{v}|| \\approx 3.6$\n",
        "\n",
        "Manually calculated with Pythag theorem:\n",
        "$||\\vec{v}|| = \\sqrt{v_1^2 + v_2^2}$\n",
        "\n",
        "\n",
        "### Dot Product\n",
        "\n",
        "Tells us relationship between the _directions_ of 2 vectors.\n",
        "\n",
        "$a \\cdot b > 0$ then angle is acute (<90°)\n",
        "$a \\cdot b = 0$ then angle is 90° (perpendicular, _orthogonal_)\n",
        "$a \\cdot b < 0$ then angle is obtuse (>90°)\n",
        "\n"
      ]
    },
    {
      "cell_type": "code",
      "execution_count": 15,
      "metadata": {},
      "outputs": [
        {
          "name": "stdout",
          "output_type": "stream",
          "text": [
            "Norm: 3.605551275463989\n"
          ]
        }
      ],
      "source": [
        "from math import sqrt\n",
        "import numpy as np\n",
        "\n",
        "v = np.array([2, 3])\n",
        "\n",
        "norm = np.linalg.norm(v) # sqrt(v[0]**2 + v[1]**2)\n",
        "print(f\"Norm: {norm}\")\n",
        "\n"
      ]
    },
    {
      "cell_type": "code",
      "execution_count": 18,
      "metadata": {},
      "outputs": [
        {
          "name": "stdout",
          "output_type": "stream",
          "text": [
            "Dot product: 18\n",
            "Orthogonal: False\n",
            "Accute: True\n",
            "Obtuse: False\n"
          ]
        }
      ],
      "source": [
        "v1 = np.array([2, 3])\n",
        "v2 = np.array([3, 4])\n",
        "\n",
        "dot_product = np.dot(v1, v2) # 2*3 + 3*4\n",
        "print(f\"Dot product: {dot_product}\")\n",
        "\n",
        "ortho = np.dot(v1, v2) == 0\n",
        "accute = np.dot(v1, v2) > 0\n",
        "obtuse = np.dot(v1, v2) < 0\n",
        "\n",
        "print(f\"Orthogonal: {ortho}\")\n",
        "print(f\"Accute: {accute}\")\n",
        "print(f\"Obtuse: {obtuse}\")\n"
      ]
    }
  ],
  "metadata": {
    "kernelspec": {
      "display_name": "aiml",
      "language": "python",
      "name": "python3"
    },
    "language_info": {
      "codemirror_mode": {
        "name": "ipython",
        "version": 3
      },
      "file_extension": ".py",
      "mimetype": "text/x-python",
      "name": "python",
      "nbconvert_exporter": "python",
      "pygments_lexer": "ipython3",
      "version": "3.11.13"
    }
  },
  "nbformat": 4,
  "nbformat_minor": 2
}
