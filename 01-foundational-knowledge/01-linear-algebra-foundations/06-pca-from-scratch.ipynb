{
  "cells": [
    {
      "cell_type": "markdown",
      "metadata": {},
      "source": [
        "# PCA from Scratch Challenge\n",
        "## Linear Algebra Foundations\n",
        "\n",
        "This notebook implements Principal Component Analysis from scratch:\n",
        "- Calculate covariance matrix\n",
        "- Compute eigenvectors and eigenvalues\n",
        "- Project data onto principal components\n",
        "- Apply to Iris dataset\n",
        "- Compare with sklearn.decomposition.PCA\n"
      ]
    }
  ],
  "metadata": {
    "language_info": {
      "name": "python"
    }
  },
  "nbformat": 4,
  "nbformat_minor": 2
}
