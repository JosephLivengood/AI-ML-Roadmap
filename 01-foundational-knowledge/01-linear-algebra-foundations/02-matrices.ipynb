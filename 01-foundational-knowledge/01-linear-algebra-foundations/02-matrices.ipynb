{
  "cells": [
    {
      "cell_type": "markdown",
      "metadata": {},
      "source": [
        "# Matrices\n",
        "## Linear Algebra Foundations\n",
        "\n",
        "This notebook covers:\n",
        "- Matrix representation\n",
        "- Matrix transpose\n",
        "- Matrix multiplication\n",
        "- Identity matrix\n",
        "- NumPy implementation\n"
      ]
    },
    {
      "cell_type": "markdown",
      "metadata": {},
      "source": [
        "$$A = \\begin{bmatrix} 1 & 2 \\\\ 3 & 4 \\end{bmatrix}$$\n",
        "\n",
        "Transposing is swapping rows and columns\n",
        "\n",
        "$$A = \\begin{bmatrix} 1 & 3 \\\\ 2 & 4 \\end{bmatrix}$$\n",
        "\n",
        "Multiplication is dot product of row and column\n",
        "\n",
        "Identity matrix\n",
        "\n",
        "A * I = A\n",
        "\n",
        "$$I = \\begin{bmatrix} 1 & 0 \\\\ 0 & 1 \\end{bmatrix}$$"
      ]
    },
    {
      "cell_type": "code",
      "execution_count": null,
      "metadata": {},
      "outputs": [
        {
          "name": "stdout",
          "output_type": "stream",
          "text": [
            "[[1 2]\n",
            " [3 4]]\n",
            "[[1 3]\n",
            " [2 4]]\n",
            "[[ 7 10]\n",
            " [15 22]]\n",
            "[[1. 0.]\n",
            " [0. 1.]]\n",
            "[[ 7. 10.]\n",
            " [15. 22.]]\n"
          ]
        }
      ],
      "source": [
        "from re import I\n",
        "import numpy as np\n",
        "\n",
        "m = np.array([[1, 2], [3, 4]])\n",
        "transpose = m.T\n",
        "\n",
        "print(m)\n",
        "print(transpose)\n",
        "\n",
        "c = m @ m\n",
        "\n",
        "print(c)\n",
        "\n",
        "identity = np.eye(2)\n",
        "print(identity)\n",
        "print(c @ identity)"
      ]
    }
  ],
  "metadata": {
    "kernelspec": {
      "display_name": "aiml",
      "language": "python",
      "name": "python3"
    },
    "language_info": {
      "codemirror_mode": {
        "name": "ipython",
        "version": 3
      },
      "file_extension": ".py",
      "mimetype": "text/x-python",
      "name": "python",
      "nbconvert_exporter": "python",
      "pygments_lexer": "ipython3",
      "version": "3.11.13"
    }
  },
  "nbformat": 4,
  "nbformat_minor": 2
}
