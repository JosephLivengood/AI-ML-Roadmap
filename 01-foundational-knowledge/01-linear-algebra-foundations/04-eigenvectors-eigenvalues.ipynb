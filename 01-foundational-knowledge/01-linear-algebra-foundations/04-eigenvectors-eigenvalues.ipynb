{
  "cells": [
    {
      "cell_type": "markdown",
      "metadata": {},
      "source": [
        "# Eigenvectors & Eigenvalues\n",
        "## Linear Algebra Foundations\n",
        "\n",
        "This notebook covers:\n",
        "- Understanding eigenvectors and eigenvalues\n",
        "- Vectors that are only scaled by transformations\n",
        "- Calculating eigenvalues and eigenvectors\n",
        "- Applications in machine learning\n",
        "- NumPy implementation with np.linalg.eig()\n"
      ]
    }
  ],
  "metadata": {
    "language_info": {
      "name": "python"
    }
  },
  "nbformat": 4,
  "nbformat_minor": 2
}
