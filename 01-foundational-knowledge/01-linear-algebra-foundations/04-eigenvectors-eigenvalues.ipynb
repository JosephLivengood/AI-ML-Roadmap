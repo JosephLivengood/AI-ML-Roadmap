{
  "cells": [
    {
      "cell_type": "markdown",
      "metadata": {},
      "source": [
        "# Eigenvectors & Eigenvalues\n",
        "## Linear Algebra Foundations\n",
        "\n",
        "This notebook covers:\n",
        "- Understanding eigenvectors and eigenvalues\n",
        "- Vectors that are only scaled by transformations\n",
        "- Calculating eigenvalues and eigenvectors\n",
        "- Applications in machine learning\n",
        "- NumPy implementation with np.linalg.eig()\n"
      ]
    },
    {
      "cell_type": "markdown",
      "metadata": {},
      "source": [
        "Eigenvector is a vector that does not change direction when transformed- only scales\n",
        "Eigenvalue is the factor of scaling (Represented by lambda λ)"
      ]
    },
    {
      "cell_type": "code",
      "execution_count": 2,
      "metadata": {},
      "outputs": [
        {
          "name": "stdout",
          "output_type": "stream",
          "text": [
            "[2 0]\n",
            "[2. 3.]\n",
            "[[1. 0.]\n",
            " [0. 1.]]\n"
          ]
        }
      ],
      "source": [
        "import numpy as np\n",
        "\n",
        "v = np.array([1, 0])\n",
        "M = np.array([[2, 0], [0, 3]])\n",
        "\n",
        "print(M @ v) # Eigenvector of M, eigenvalue of 2\n",
        "\n",
        "\n",
        "eigenvalues, eigenvectors = np.linalg.eig(M)\n",
        "\n",
        "print(eigenvalues)\n",
        "print(eigenvectors)\n",
        "\n",
        "\n",
        "\n",
        "\n",
        "\n"
      ]
    }
  ],
  "metadata": {
    "kernelspec": {
      "display_name": "aiml",
      "language": "python",
      "name": "python3"
    },
    "language_info": {
      "codemirror_mode": {
        "name": "ipython",
        "version": 3
      },
      "file_extension": ".py",
      "mimetype": "text/x-python",
      "name": "python",
      "nbconvert_exporter": "python",
      "pygments_lexer": "ipython3",
      "version": "3.11.13"
    }
  },
  "nbformat": 4,
  "nbformat_minor": 2
}
