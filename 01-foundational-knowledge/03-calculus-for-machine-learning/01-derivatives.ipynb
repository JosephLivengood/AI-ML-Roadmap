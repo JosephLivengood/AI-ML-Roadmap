{
  "cells": [
    {
      "cell_type": "markdown",
      "metadata": {},
      "source": [
        "# Derivatives\n",
        "## Calculus for Machine Learning\n",
        "\n",
        "This notebook covers:\n",
        "- Understanding derivatives as rate of change\n",
        "- Geometric interpretation as slope\n",
        "- Basic derivative rules\n",
        "- Applications in optimization\n",
        "- Python implementation\n"
      ]
    },
    {
      "cell_type": "markdown",
      "metadata": {},
      "source": [
        "## Loss Function\n",
        "\n",
        "aka Error function, measures how bad our model's predictions are. Goal of trainnig is to find the set of parameters that makes this error as small as possible. Done by claculating derivative of adjusting parameters to \"walk down the slope\" until we find the bottom of the curve where derivative is zero."
      ]
    },
    {
      "cell_type": "code",
      "execution_count": null,
      "metadata": {},
      "outputs": [],
      "source": []
    }
  ],
  "metadata": {
    "kernelspec": {
      "display_name": "aiml",
      "language": "python",
      "name": "python3"
    },
    "language_info": {
      "name": "python",
      "version": "3.11.13"
    }
  },
  "nbformat": 4,
  "nbformat_minor": 2
}
