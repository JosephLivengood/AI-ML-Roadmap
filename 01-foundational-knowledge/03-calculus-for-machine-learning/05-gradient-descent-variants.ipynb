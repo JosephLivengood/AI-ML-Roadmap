{
  "cells": [
    {
      "cell_type": "markdown",
      "metadata": {},
      "source": [
        "# Gradient Descent Variants Challenge\n",
        "## Calculus for Machine Learning\n",
        "\n",
        "This notebook implements gradient descent variants from scratch:\n",
        "- Linear regression problem setup (y = mx + b)\n",
        "- Batch gradient descent implementation\n",
        "- Stochastic gradient descent implementation\n",
        "- Mini-batch gradient descent implementation\n",
        "- Loss visualization and convergence comparison\n"
      ]
    }
  ],
  "metadata": {
    "language_info": {
      "name": "python"
    }
  },
  "nbformat": 4,
  "nbformat_minor": 2
}
