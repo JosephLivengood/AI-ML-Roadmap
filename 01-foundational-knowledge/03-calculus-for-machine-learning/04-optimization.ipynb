{
  "cells": [
    {
      "cell_type": "markdown",
      "metadata": {},
      "source": [
        "# Optimization\n",
        "## Calculus for Machine Learning\n",
        "\n",
        "This notebook covers:\n",
        "- Finding function minima\n",
        "- Moving opposite to gradient direction\n",
        "- Local vs global minima\n",
        "- Optimization algorithms overview\n",
        "- Connection to machine learning\n"
      ]
    }
  ],
  "metadata": {
    "language_info": {
      "name": "python"
    }
  },
  "nbformat": 4,
  "nbformat_minor": 2
}
