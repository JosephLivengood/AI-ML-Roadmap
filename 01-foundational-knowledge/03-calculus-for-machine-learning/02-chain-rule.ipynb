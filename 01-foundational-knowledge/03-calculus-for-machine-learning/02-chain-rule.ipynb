{
  "cells": [
    {
      "cell_type": "markdown",
      "metadata": {},
      "source": [
        "# The Chain Rule\n",
        "## Calculus for Machine Learning\n",
        "\n",
        "This notebook covers:\n",
        "- Understanding the chain rule\n",
        "- Fundamental concept for backpropagation\n",
        "- Composite function derivatives\n",
        "- Step-by-step examples\n",
        "- Connection to neural networks\n"
      ]
    }
  ],
  "metadata": {
    "language_info": {
      "name": "python"
    }
  },
  "nbformat": 4,
  "nbformat_minor": 2
}
