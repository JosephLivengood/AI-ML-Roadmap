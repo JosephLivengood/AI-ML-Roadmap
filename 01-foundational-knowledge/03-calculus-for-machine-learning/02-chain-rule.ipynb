{
  "cells": [
    {
      "cell_type": "markdown",
      "metadata": {},
      "source": [
        "# The Chain Rule\n",
        "## Calculus for Machine Learning\n",
        "\n",
        "This notebook covers:\n",
        "- Understanding the chain rule\n",
        "- Fundamental concept for backpropagation\n",
        "- Composite function derivatives\n",
        "- Step-by-step examples\n",
        "- Connection to neural networks\n"
      ]
    },
    {
      "cell_type": "markdown",
      "metadata": {},
      "source": [
        "## Chain rule\n",
        "\n",
        "The chain rule states that for a composite function $f(g(x))$, the derivative is:\n",
        "\n",
        "$$\\frac{d}{dx}[f(g(x))] = f'(g(x)) \\cdot g'(x)$$\n",
        "\n",
        "Let's work through an example: $f(x) = (2x + 1)^2$\n",
        "\n",
        "**Step 1:** Identify the outer and inner functions\n",
        "- Outer function: $u^2$ where $u = 2x + 1$\n",
        "- Inner function: $u = 2x + 1$\n",
        "\n",
        "**Step 2:** Find the derivative of the outer function with respect to $u$\n",
        "$$\\frac{d}{du}[u^2] = 2u$$\n",
        "\n",
        "**Step 3:** Find the derivative of the inner function with respect to $x$\n",
        "$$\\frac{d}{dx}[2x + 1] = 2$$\n",
        "\n",
        "**Step 4:** Apply the chain rule\n",
        "$$\\frac{d}{dx}[(2x + 1)^2] = 2u \\cdot 2 = 2(2x + 1) \\cdot 2 = 4(2x + 1)$$\n",
        "\n",
        "Therefore: $f'(x) = 4(2x + 1) = 8x + 4$\n",
        "\n"
      ]
    },
    {
      "cell_type": "code",
      "execution_count": null,
      "metadata": {},
      "outputs": [],
      "source": []
    }
  ],
  "metadata": {
    "kernelspec": {
      "display_name": "aiml",
      "language": "python",
      "name": "python3"
    },
    "language_info": {
      "name": "python",
      "version": "3.11.13"
    }
  },
  "nbformat": 4,
  "nbformat_minor": 2
}
