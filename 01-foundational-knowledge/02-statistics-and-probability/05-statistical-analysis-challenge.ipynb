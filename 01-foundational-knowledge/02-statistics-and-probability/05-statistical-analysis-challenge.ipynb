{
  "cells": [
    {
      "cell_type": "markdown",
      "metadata": {},
      "source": [
        "# Statistical Analysis Challenge\n",
        "## Statistics and Probability\n",
        "\n",
        "This notebook performs statistical analysis on the Titanic dataset:\n",
        "- Hypothesis formulation\n",
        "- Data cleaning with pandas\n",
        "- Exploratory Data Analysis (EDA)\n",
        "- Visualization with matplotlib/seaborn\n",
        "- Statistical testing (t-test)\n",
        "- Conclusions and hypothesis validation\n"
      ]
    }
  ],
  "metadata": {
    "language_info": {
      "name": "python"
    }
  },
  "nbformat": 4,
  "nbformat_minor": 2
}
