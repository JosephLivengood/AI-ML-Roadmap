{
  "cells": [
    {
      "cell_type": "markdown",
      "metadata": {},
      "source": [
        "# Descriptive Statistics\n",
        "## Statistics and Probability\n",
        "\n",
        "This notebook covers:\n",
        "- Mean, median, mode\n",
        "- Variance and standard deviation\n",
        "- Distribution shape measures\n",
        "- Data visualization techniques\n",
        "- Python implementation with pandas/numpy\n"
      ]
    },
    {
      "cell_type": "code",
      "execution_count": 19,
      "metadata": {},
      "outputs": [
        {
          "name": "stdout",
          "output_type": "stream",
          "text": [
            "Mean: 3.0\n",
            "Median: 3.0\n",
            "Stats Mode: (np.int64(3), np.int64(2))\n",
            "Pandas Mode: 3\n",
            "Range Team A: 4\n",
            "Range Team B: 10\n",
            "Deviations Team A: [-2. -1.  0.  0.  1.  2.]\n",
            "Deviations Team B: [-1.66666667 -1.66666667 -1.66666667 -1.66666667 -1.66666667  8.33333333]\n",
            "Variance Team A: 1.6666666666666667\n",
            "Variance Team B: 13.888888888888886\n",
            "Standard Deviation Team A: 1.2909944487358056\n",
            "Standard Deviation Team B: 3.726779962499649\n",
            "Standard Deviation Team A 2: 1.2909944487358056\n",
            "Standard Deviation Team B 2: 3.726779962499649\n"
          ]
        }
      ],
      "source": [
        "import numpy as np\n",
        "import pandas as pd\n",
        "import scipy.stats as stats\n",
        "\n",
        "sample_data = np.array([1, 2, 3, 3, 4, 5])\n",
        "\n",
        "mean = np.mean(sample_data)\n",
        "print(f\"Mean: {mean}\")\n",
        "\n",
        "median = np.median(sample_data)\n",
        "print(f\"Median: {median}\")\n",
        "\n",
        "stats_mode = stats.mode(sample_data, keepdims=False)\n",
        "print(f\"Stats Mode: {stats_mode.mode, stats_mode.count}\")\n",
        "\n",
        "pandas_mode = pd.Series(sample_data).mode()\n",
        "print(f\"Pandas Mode: {pandas_mode[0]}\")\n",
        "\n",
        "\n",
        "\n",
        "# Range = how spread out the data is\n",
        "team_a = [10, 11, 12, 12, 13, 14]\n",
        "team_b = [5, 5, 5, 5, 5, 15]\n",
        "\n",
        "range_team_a = np.max(team_a) - np.min(team_a)\n",
        "range_team_b = np.max(team_b) - np.min(team_b)\n",
        "\n",
        "mean_team_a = np.mean(team_a)\n",
        "mean_team_b = np.mean(team_b)\n",
        "\n",
        "print(f\"Range Team A: {range_team_a}\")\n",
        "print(f\"Range Team B: {range_team_b}\")\n",
        "\n",
        "deviations_team_a = team_a - mean_team_a\n",
        "deviations_team_b = team_b - mean_team_b\n",
        "\n",
        "print(f\"Deviations Team A: {deviations_team_a}\")\n",
        "print(f\"Deviations Team B: {deviations_team_b}\") \n",
        "# Sum of squared deviations / num elements = variance\n",
        "\n",
        "# Variance is measure of how spread out the data is\n",
        "\n",
        "# Variance 1 step with np\n",
        "variance_team_a = np.var(team_a)\n",
        "variance_team_b = np.var(team_b)\n",
        "print(f\"Variance Team A: {variance_team_a}\")\n",
        "print(f\"Variance Team B: {variance_team_b}\")\n",
        "\n",
        "# Standard Deviation\n",
        "std_dev_team_a = np.sqrt(variance_team_a)\n",
        "std_dev_team_b = np.sqrt(variance_team_b)\n",
        "print(f\"Standard Deviation Team A: {std_dev_team_a}\")\n",
        "print(f\"Standard Deviation Team B: {std_dev_team_b}\")\n",
        "# Meaning typifal dev on a team merged a pr of 12 +/- 1.29\n",
        "\n",
        "# Standard Deviation 1 step with np\n",
        "std_dev_team_a_2 = np.std(team_a)\n",
        "std_dev_team_b_2 = np.std(team_b)\n",
        "print(f\"Standard Deviation Team A 2: {std_dev_team_a_2}\")\n",
        "print(f\"Standard Deviation Team B 2: {std_dev_team_b_2}\")\n",
        "\n",
        "\n",
        "\n"
      ]
    }
  ],
  "metadata": {
    "kernelspec": {
      "display_name": "aiml",
      "language": "python",
      "name": "python3"
    },
    "language_info": {
      "codemirror_mode": {
        "name": "ipython",
        "version": 3
      },
      "file_extension": ".py",
      "mimetype": "text/x-python",
      "name": "python",
      "nbconvert_exporter": "python",
      "pygments_lexer": "ipython3",
      "version": "3.11.13"
    }
  },
  "nbformat": 4,
  "nbformat_minor": 2
}
