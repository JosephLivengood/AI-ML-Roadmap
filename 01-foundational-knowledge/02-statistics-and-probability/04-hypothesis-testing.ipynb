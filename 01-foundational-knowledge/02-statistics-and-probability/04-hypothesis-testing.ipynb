{
  "cells": [
    {
      "cell_type": "markdown",
      "metadata": {},
      "source": [
        "# Hypothesis Testing\n",
        "## Statistics and Probability\n",
        "\n",
        "This notebook covers:\n",
        "- Null hypothesis concepts\n",
        "- P-value interpretation\n",
        "- T-tests and their applications\n",
        "- Type I and Type II errors\n",
        "- Statistical significance\n"
      ]
    }
  ],
  "metadata": {
    "language_info": {
      "name": "python"
    }
  },
  "nbformat": 4,
  "nbformat_minor": 2
}
