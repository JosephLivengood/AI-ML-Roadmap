{
  "cells": [
    {
      "cell_type": "markdown",
      "metadata": {},
      "source": [
        "# Hypothesis Testing\n",
        "## Statistics and Probability\n",
        "\n",
        "This notebook covers:\n",
        "- Null hypothesis concepts\n",
        "- P-value interpretation\n",
        "- T-tests and their applications\n",
        "- Type I and Type II errors\n",
        "- Statistical significance\n"
      ]
    },
    {
      "cell_type": "markdown",
      "metadata": {},
      "source": [
        "## Null Hypothesis\n",
        "\n",
        "H0 is the skeptical default assumption state there is no effect or different and we attempt ot prove otherwise.\n",
        "\n",
        "H1 (Alternative Hypothesis) group that is served an ad converts at a higher rate.\n",
        "\n",
        "## P-Value\n",
        "Probability of seeing our collected data if the h0 is true\n",
        "\n",
        "- Low p-value <0.05 suggests data is very surprising or unlikely to have occured by change allowing us to reject the null hypothesis\n",
        "- High p value suggests data could gave happened by chance and we fail to reject H0\n",
        "\n",
        "Low means our results are statistically significant and not random change. The statistical tool to compare 2 groups and get a p-value is often a T-test\n",
        "\n",
        "**Type I Error** False positive. When we reject null hypo when it was actually true. You conclude theres an effect but youre wrong.\n",
        "**Type II Error** False Negative. When you fail to reject the null hypo when there was actually an effect.\n",
        "\n"
      ]
    }
  ],
  "metadata": {
    "kernelspec": {
      "display_name": "aiml",
      "language": "python",
      "name": "python3"
    },
    "language_info": {
      "name": "python",
      "version": "3.11.13"
    }
  },
  "nbformat": 4,
  "nbformat_minor": 2
}
