{
  "cells": [
    {
      "cell_type": "markdown",
      "metadata": {},
      "source": [
        "# Core Concepts\n",
        "## Statistics and Probability\n",
        "\n",
        "This notebook covers:\n",
        "- Conditional probability\n",
        "- Bayes' Theorem\n",
        "- Independence and dependence\n",
        "- Joint and marginal probabilities\n",
        "- Practical applications\n"
      ]
    },
    {
      "cell_type": "markdown",
      "metadata": {},
      "source": [
        "## Bayes' Theorem\n",
        "\n",
        "Helps us update beliefs in light of new evidence.\n",
        "\n",
        "Imagine a test is 99% accurate for a condition that is rare only 1% of the population has.\n",
        "  Group of 1000 people, 10 sick 990 healthy\n",
        "    9/10 will test positive of sick\n",
        "    10/1000 will test positive of healthy\n",
        "    19 total identified as positive, only 9 really had it\n",
        "    9/19, ~47% chance if you test positive that you really have it"
      ]
    },
    {
      "cell_type": "code",
      "execution_count": 1,
      "metadata": {},
      "outputs": [
        {
          "name": "stdout",
          "output_type": "stream",
          "text": [
            "Probability of drawing a king: 7.69%\n",
            "Probability of drawing a king after a non-king removed: 7.84%\n"
          ]
        }
      ],
      "source": [
        "cards_in_deck = 52\n",
        "kings_in_deck = 4\n",
        "prob_king = kings_in_deck / cards_in_deck\n",
        "print(f\"Probability of drawing a king: {prob_king:.2%}\")\n",
        "\n",
        "cards_in_deck -= 1\n",
        "prob_king_2 = kings_in_deck / cards_in_deck\n",
        "print(f\"Probability of drawing a king after a non-king removed: {prob_king_2:.2%}\")"
      ]
    }
  ],
  "metadata": {
    "kernelspec": {
      "display_name": "aiml",
      "language": "python",
      "name": "python3"
    },
    "language_info": {
      "codemirror_mode": {
        "name": "ipython",
        "version": 3
      },
      "file_extension": ".py",
      "mimetype": "text/x-python",
      "name": "python",
      "nbconvert_exporter": "python",
      "pygments_lexer": "ipython3",
      "version": "3.11.13"
    }
  },
  "nbformat": 4,
  "nbformat_minor": 2
}
