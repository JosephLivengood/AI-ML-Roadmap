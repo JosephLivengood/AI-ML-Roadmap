{
  "cells": [
    {
      "cell_type": "markdown",
      "metadata": {},
      "source": [
        "# Core Concepts\n",
        "## Statistics and Probability\n",
        "\n",
        "This notebook covers:\n",
        "- Conditional probability\n",
        "- Bayes' Theorem\n",
        "- Independence and dependence\n",
        "- Joint and marginal probabilities\n",
        "- Practical applications\n"
      ]
    }
  ],
  "metadata": {
    "language_info": {
      "name": "python"
    }
  },
  "nbformat": 4,
  "nbformat_minor": 2
}
