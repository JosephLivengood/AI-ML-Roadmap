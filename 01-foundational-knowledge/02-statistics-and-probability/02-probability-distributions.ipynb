{
  "cells": [
    {
      "cell_type": "markdown",
      "metadata": {},
      "source": [
        "# Probability Distributions\n",
        "## Statistics and Probability\n",
        "\n",
        "This notebook covers:\n",
        "- Uniform distribution\n",
        "- Normal (Gaussian) distribution\n",
        "- Binomial distribution\n",
        "- Probability Density Functions (PDFs)\n",
        "- Cumulative Distribution Functions (CDFs)\n"
      ]
    }
  ],
  "metadata": {
    "language_info": {
      "name": "python"
    }
  },
  "nbformat": 4,
  "nbformat_minor": 2
}
