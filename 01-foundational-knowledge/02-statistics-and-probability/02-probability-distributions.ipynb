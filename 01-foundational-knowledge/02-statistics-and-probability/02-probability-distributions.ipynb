{
  "cells": [
    {
      "cell_type": "markdown",
      "metadata": {},
      "source": [
        "# Probability Distributions\n",
        "## Statistics and Probability\n",
        "\n",
        "This notebook covers:\n",
        "- Uniform distribution\n",
        "- Normal (Gaussian) distribution\n",
        "- Binomial distribution\n",
        "- Probability Density Functions (PDFs)\n",
        "- Cumulative Distribution Functions (CDFs)\n"
      ]
    },
    {
      "cell_type": "code",
      "execution_count": 1,
      "metadata": {},
      "outputs": [],
      "source": [
        "import numpy as np\n",
        "import pandas as pd\n"
      ]
    },
    {
      "cell_type": "markdown",
      "metadata": {},
      "source": [
        "## Descriptive Statistics\n",
        "\n",
        "Mean, Median, Mode, Range, Variance, Standard Deviation\n",
        "\n",
        "## Probability Distribution\n",
        "\n",
        "A function that describes the likelihood of different outcomes in an experiment\n",
        "It assigns a probability to each possible outcome\n",
        "The sum of all probabilities must be 1\n",
        "\n",
        "### Uniform Distribution\n",
        "\n",
        "Things such as a single die. Every outcome equal\n",
        "\n",
        "**Probability Densiry Function (PDF)** is a graph/function that tells you prob of each possible outcome\n",
        "\n",
        "**Cumulative Distribution Function (CDF)** tells you getting a value less than or equal, etc\n",
        "\n",
        "Rolling a 3 is 1/6 (PDF), rolling at least a 3 is 1/2 (CDF)\n",
        "\n",
        "Mean: μ\n",
        "Std Dev: σ\n",
        "\n",
        "Larger std dev means a larger wider PDF\n",
        "\n",
        "#### Empirical Rule (68, 95, 99.7)\n",
        "\n",
        "- 68% of data falls within 1 std dev (μ±1σ)\n",
        "- 95% of data falls within 2 std dev (μ±2σ)\n",
        "- 99.7% of data falls within 3 std dev (μ±3σ)\n",
        "\n",
        "If average daily temp in a month is 60 with a std dev of 4 ->\n",
        "  68% of days will be 56-64\n",
        "  95% of days will be 52-68\n",
        "\n",
        "### Normal Distribution\n",
        "\n",
        "Bell curve for continuous data clustered around a mean\n",
        "\n",
        "### Binomial Distribution\n",
        "\n",
        "When only 2 results exist (pass/fail, heads/tails, etc). Lets us calc the prob for each posible outcome over many trials (n = number trails, p = probability) Counts successes in a fixed number of trials\n",
        "\n",
        "**Probability Mass Function (PMF)** ~PDF but for distributions with discrete outcomes like 0-1-2 but not 2.5"
      ]
    },
    {
      "cell_type": "code",
      "execution_count": 2,
      "metadata": {},
      "outputs": [
        {
          "name": "stdout",
          "output_type": "stream",
          "text": [
            "Probability of 2 successes: 30.20%\n",
            "Probability of 10 successes: 0.00000010%\n"
          ]
        }
      ],
      "source": [
        "\n",
        "from scipy.stats import binom\n",
        "\n",
        "n = 10  # The number of trials\n",
        "p = 0.2 # The probability of success\n",
        "\n",
        "# Calculate the probability of getting EXACTLY 2 successes\n",
        "prob_2 = binom.pmf(k=2, n=n, p=p)\n",
        "\n",
        "# Calculate the probability of getting EXACTLY 10 successes\n",
        "prob_10 = binom.pmf(k=10, n=n, p=p)\n",
        "\n",
        "print(f\"Probability of 2 successes: {prob_2:.2%}\")\n",
        "print(f\"Probability of 10 successes: {prob_10:.8f}%\")"
      ]
    }
  ],
  "metadata": {
    "kernelspec": {
      "display_name": "aiml",
      "language": "python",
      "name": "python3"
    },
    "language_info": {
      "codemirror_mode": {
        "name": "ipython",
        "version": 3
      },
      "file_extension": ".py",
      "mimetype": "text/x-python",
      "name": "python",
      "nbconvert_exporter": "python",
      "pygments_lexer": "ipython3",
      "version": "3.11.13"
    }
  },
  "nbformat": 4,
  "nbformat_minor": 2
}
