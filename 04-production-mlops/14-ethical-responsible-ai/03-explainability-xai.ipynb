{
  "cells": [
    {
      "cell_type": "markdown",
      "metadata": {},
      "source": [
        "# Explainability (XAI)\n",
        "## Ethical & Responsible AI\n",
        "\n",
        "This notebook covers:\n",
        "- SHAP (SHapley Additive exPlanations)\n",
        "- LIME (Local Interpretable Model-agnostic Explanations)\n",
        "- Feature importance visualization\n",
        "- Model prediction explanations\n",
        "- Interpretability vs performance\n"
      ]
    }
  ],
  "metadata": {
    "language_info": {
      "name": "python"
    }
  },
  "nbformat": 4,
  "nbformat_minor": 2
}
